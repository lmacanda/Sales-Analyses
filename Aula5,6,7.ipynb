{
  "nbformat": 4,
  "nbformat_minor": 0,
  "metadata": {
    "colab": {
      "provenance": [],
      "authorship_tag": "ABX9TyOB2dldI//yKZOtdRq3FASF",
      "include_colab_link": true
    },
    "kernelspec": {
      "name": "python3",
      "display_name": "Python 3"
    },
    "language_info": {
      "name": "python"
    }
  },
  "cells": [
    {
      "cell_type": "markdown",
      "metadata": {
        "id": "view-in-github",
        "colab_type": "text"
      },
      "source": [
        "<a href=\"https://colab.research.google.com/github/lmacanda/Sales-Analyses/blob/main/Aula5%2C6%2C7.ipynb\" target=\"_parent\"><img src=\"https://colab.research.google.com/assets/colab-badge.svg\" alt=\"Open In Colab\"/></a>"
      ]
    },
    {
      "cell_type": "markdown",
      "source": [
        "Aula 5, 6, 7"
      ],
      "metadata": {
        "id": "SPKNFWBLrVHM"
      }
    },
    {
      "cell_type": "code",
      "source": [
        "import pandas as pd\n",
        "import numpy as np\n",
        "import matplotlib.pyplot as plt\n",
        "import matplotlib.patches as mpatches\n",
        "import seaborn as sns\n",
        "\n",
        "\n",
        "produtos = pd.read_csv(\"/content/produtos.csv\")\n",
        "produtos.head()\n"
      ],
      "metadata": {
        "colab": {
          "base_uri": "https://localhost:8080/",
          "height": 206
        },
        "id": "GuN5ZIKGrsZb",
        "outputId": "755a58d9-134d-4c9f-f7d8-a01c6f9af663"
      },
      "execution_count": 37,
      "outputs": [
        {
          "output_type": "execute_result",
          "data": {
            "text/plain": [
              "   produto_id         nome_produto   categoria  preco_unitario  estoque\n",
              "0        1001      Camiseta Básica   Vestuário            49.9      120\n",
              "1        1002        Tênis Corrida    Calçados           199.0       80\n",
              "2        1003       Mochila Urbana  Acessórios            89.9       50\n",
              "3        1004  Jaqueta Corta-Vento   Vestuário           149.9       60\n",
              "4        1005          Calça Jeans   Vestuário            79.9       90"
            ],
            "text/html": [
              "\n",
              "  <div id=\"df-ca1d0cb9-c209-4bd5-ac4c-169b101d1154\" class=\"colab-df-container\">\n",
              "    <div>\n",
              "<style scoped>\n",
              "    .dataframe tbody tr th:only-of-type {\n",
              "        vertical-align: middle;\n",
              "    }\n",
              "\n",
              "    .dataframe tbody tr th {\n",
              "        vertical-align: top;\n",
              "    }\n",
              "\n",
              "    .dataframe thead th {\n",
              "        text-align: right;\n",
              "    }\n",
              "</style>\n",
              "<table border=\"1\" class=\"dataframe\">\n",
              "  <thead>\n",
              "    <tr style=\"text-align: right;\">\n",
              "      <th></th>\n",
              "      <th>produto_id</th>\n",
              "      <th>nome_produto</th>\n",
              "      <th>categoria</th>\n",
              "      <th>preco_unitario</th>\n",
              "      <th>estoque</th>\n",
              "    </tr>\n",
              "  </thead>\n",
              "  <tbody>\n",
              "    <tr>\n",
              "      <th>0</th>\n",
              "      <td>1001</td>\n",
              "      <td>Camiseta Básica</td>\n",
              "      <td>Vestuário</td>\n",
              "      <td>49.9</td>\n",
              "      <td>120</td>\n",
              "    </tr>\n",
              "    <tr>\n",
              "      <th>1</th>\n",
              "      <td>1002</td>\n",
              "      <td>Tênis Corrida</td>\n",
              "      <td>Calçados</td>\n",
              "      <td>199.0</td>\n",
              "      <td>80</td>\n",
              "    </tr>\n",
              "    <tr>\n",
              "      <th>2</th>\n",
              "      <td>1003</td>\n",
              "      <td>Mochila Urbana</td>\n",
              "      <td>Acessórios</td>\n",
              "      <td>89.9</td>\n",
              "      <td>50</td>\n",
              "    </tr>\n",
              "    <tr>\n",
              "      <th>3</th>\n",
              "      <td>1004</td>\n",
              "      <td>Jaqueta Corta-Vento</td>\n",
              "      <td>Vestuário</td>\n",
              "      <td>149.9</td>\n",
              "      <td>60</td>\n",
              "    </tr>\n",
              "    <tr>\n",
              "      <th>4</th>\n",
              "      <td>1005</td>\n",
              "      <td>Calça Jeans</td>\n",
              "      <td>Vestuário</td>\n",
              "      <td>79.9</td>\n",
              "      <td>90</td>\n",
              "    </tr>\n",
              "  </tbody>\n",
              "</table>\n",
              "</div>\n",
              "    <div class=\"colab-df-buttons\">\n",
              "\n",
              "  <div class=\"colab-df-container\">\n",
              "    <button class=\"colab-df-convert\" onclick=\"convertToInteractive('df-ca1d0cb9-c209-4bd5-ac4c-169b101d1154')\"\n",
              "            title=\"Convert this dataframe to an interactive table.\"\n",
              "            style=\"display:none;\">\n",
              "\n",
              "  <svg xmlns=\"http://www.w3.org/2000/svg\" height=\"24px\" viewBox=\"0 -960 960 960\">\n",
              "    <path d=\"M120-120v-720h720v720H120Zm60-500h600v-160H180v160Zm220 220h160v-160H400v160Zm0 220h160v-160H400v160ZM180-400h160v-160H180v160Zm440 0h160v-160H620v160ZM180-180h160v-160H180v160Zm440 0h160v-160H620v160Z\"/>\n",
              "  </svg>\n",
              "    </button>\n",
              "\n",
              "  <style>\n",
              "    .colab-df-container {\n",
              "      display:flex;\n",
              "      gap: 12px;\n",
              "    }\n",
              "\n",
              "    .colab-df-convert {\n",
              "      background-color: #E8F0FE;\n",
              "      border: none;\n",
              "      border-radius: 50%;\n",
              "      cursor: pointer;\n",
              "      display: none;\n",
              "      fill: #1967D2;\n",
              "      height: 32px;\n",
              "      padding: 0 0 0 0;\n",
              "      width: 32px;\n",
              "    }\n",
              "\n",
              "    .colab-df-convert:hover {\n",
              "      background-color: #E2EBFA;\n",
              "      box-shadow: 0px 1px 2px rgba(60, 64, 67, 0.3), 0px 1px 3px 1px rgba(60, 64, 67, 0.15);\n",
              "      fill: #174EA6;\n",
              "    }\n",
              "\n",
              "    .colab-df-buttons div {\n",
              "      margin-bottom: 4px;\n",
              "    }\n",
              "\n",
              "    [theme=dark] .colab-df-convert {\n",
              "      background-color: #3B4455;\n",
              "      fill: #D2E3FC;\n",
              "    }\n",
              "\n",
              "    [theme=dark] .colab-df-convert:hover {\n",
              "      background-color: #434B5C;\n",
              "      box-shadow: 0px 1px 3px 1px rgba(0, 0, 0, 0.15);\n",
              "      filter: drop-shadow(0px 1px 2px rgba(0, 0, 0, 0.3));\n",
              "      fill: #FFFFFF;\n",
              "    }\n",
              "  </style>\n",
              "\n",
              "    <script>\n",
              "      const buttonEl =\n",
              "        document.querySelector('#df-ca1d0cb9-c209-4bd5-ac4c-169b101d1154 button.colab-df-convert');\n",
              "      buttonEl.style.display =\n",
              "        google.colab.kernel.accessAllowed ? 'block' : 'none';\n",
              "\n",
              "      async function convertToInteractive(key) {\n",
              "        const element = document.querySelector('#df-ca1d0cb9-c209-4bd5-ac4c-169b101d1154');\n",
              "        const dataTable =\n",
              "          await google.colab.kernel.invokeFunction('convertToInteractive',\n",
              "                                                    [key], {});\n",
              "        if (!dataTable) return;\n",
              "\n",
              "        const docLinkHtml = 'Like what you see? Visit the ' +\n",
              "          '<a target=\"_blank\" href=https://colab.research.google.com/notebooks/data_table.ipynb>data table notebook</a>'\n",
              "          + ' to learn more about interactive tables.';\n",
              "        element.innerHTML = '';\n",
              "        dataTable['output_type'] = 'display_data';\n",
              "        await google.colab.output.renderOutput(dataTable, element);\n",
              "        const docLink = document.createElement('div');\n",
              "        docLink.innerHTML = docLinkHtml;\n",
              "        element.appendChild(docLink);\n",
              "      }\n",
              "    </script>\n",
              "  </div>\n",
              "\n",
              "\n",
              "    <div id=\"df-c7c4f483-6164-488c-8460-c13e789b1ed2\">\n",
              "      <button class=\"colab-df-quickchart\" onclick=\"quickchart('df-c7c4f483-6164-488c-8460-c13e789b1ed2')\"\n",
              "                title=\"Suggest charts\"\n",
              "                style=\"display:none;\">\n",
              "\n",
              "<svg xmlns=\"http://www.w3.org/2000/svg\" height=\"24px\"viewBox=\"0 0 24 24\"\n",
              "     width=\"24px\">\n",
              "    <g>\n",
              "        <path d=\"M19 3H5c-1.1 0-2 .9-2 2v14c0 1.1.9 2 2 2h14c1.1 0 2-.9 2-2V5c0-1.1-.9-2-2-2zM9 17H7v-7h2v7zm4 0h-2V7h2v10zm4 0h-2v-4h2v4z\"/>\n",
              "    </g>\n",
              "</svg>\n",
              "      </button>\n",
              "\n",
              "<style>\n",
              "  .colab-df-quickchart {\n",
              "      --bg-color: #E8F0FE;\n",
              "      --fill-color: #1967D2;\n",
              "      --hover-bg-color: #E2EBFA;\n",
              "      --hover-fill-color: #174EA6;\n",
              "      --disabled-fill-color: #AAA;\n",
              "      --disabled-bg-color: #DDD;\n",
              "  }\n",
              "\n",
              "  [theme=dark] .colab-df-quickchart {\n",
              "      --bg-color: #3B4455;\n",
              "      --fill-color: #D2E3FC;\n",
              "      --hover-bg-color: #434B5C;\n",
              "      --hover-fill-color: #FFFFFF;\n",
              "      --disabled-bg-color: #3B4455;\n",
              "      --disabled-fill-color: #666;\n",
              "  }\n",
              "\n",
              "  .colab-df-quickchart {\n",
              "    background-color: var(--bg-color);\n",
              "    border: none;\n",
              "    border-radius: 50%;\n",
              "    cursor: pointer;\n",
              "    display: none;\n",
              "    fill: var(--fill-color);\n",
              "    height: 32px;\n",
              "    padding: 0;\n",
              "    width: 32px;\n",
              "  }\n",
              "\n",
              "  .colab-df-quickchart:hover {\n",
              "    background-color: var(--hover-bg-color);\n",
              "    box-shadow: 0 1px 2px rgba(60, 64, 67, 0.3), 0 1px 3px 1px rgba(60, 64, 67, 0.15);\n",
              "    fill: var(--button-hover-fill-color);\n",
              "  }\n",
              "\n",
              "  .colab-df-quickchart-complete:disabled,\n",
              "  .colab-df-quickchart-complete:disabled:hover {\n",
              "    background-color: var(--disabled-bg-color);\n",
              "    fill: var(--disabled-fill-color);\n",
              "    box-shadow: none;\n",
              "  }\n",
              "\n",
              "  .colab-df-spinner {\n",
              "    border: 2px solid var(--fill-color);\n",
              "    border-color: transparent;\n",
              "    border-bottom-color: var(--fill-color);\n",
              "    animation:\n",
              "      spin 1s steps(1) infinite;\n",
              "  }\n",
              "\n",
              "  @keyframes spin {\n",
              "    0% {\n",
              "      border-color: transparent;\n",
              "      border-bottom-color: var(--fill-color);\n",
              "      border-left-color: var(--fill-color);\n",
              "    }\n",
              "    20% {\n",
              "      border-color: transparent;\n",
              "      border-left-color: var(--fill-color);\n",
              "      border-top-color: var(--fill-color);\n",
              "    }\n",
              "    30% {\n",
              "      border-color: transparent;\n",
              "      border-left-color: var(--fill-color);\n",
              "      border-top-color: var(--fill-color);\n",
              "      border-right-color: var(--fill-color);\n",
              "    }\n",
              "    40% {\n",
              "      border-color: transparent;\n",
              "      border-right-color: var(--fill-color);\n",
              "      border-top-color: var(--fill-color);\n",
              "    }\n",
              "    60% {\n",
              "      border-color: transparent;\n",
              "      border-right-color: var(--fill-color);\n",
              "    }\n",
              "    80% {\n",
              "      border-color: transparent;\n",
              "      border-right-color: var(--fill-color);\n",
              "      border-bottom-color: var(--fill-color);\n",
              "    }\n",
              "    90% {\n",
              "      border-color: transparent;\n",
              "      border-bottom-color: var(--fill-color);\n",
              "    }\n",
              "  }\n",
              "</style>\n",
              "\n",
              "      <script>\n",
              "        async function quickchart(key) {\n",
              "          const quickchartButtonEl =\n",
              "            document.querySelector('#' + key + ' button');\n",
              "          quickchartButtonEl.disabled = true;  // To prevent multiple clicks.\n",
              "          quickchartButtonEl.classList.add('colab-df-spinner');\n",
              "          try {\n",
              "            const charts = await google.colab.kernel.invokeFunction(\n",
              "                'suggestCharts', [key], {});\n",
              "          } catch (error) {\n",
              "            console.error('Error during call to suggestCharts:', error);\n",
              "          }\n",
              "          quickchartButtonEl.classList.remove('colab-df-spinner');\n",
              "          quickchartButtonEl.classList.add('colab-df-quickchart-complete');\n",
              "        }\n",
              "        (() => {\n",
              "          let quickchartButtonEl =\n",
              "            document.querySelector('#df-c7c4f483-6164-488c-8460-c13e789b1ed2 button');\n",
              "          quickchartButtonEl.style.display =\n",
              "            google.colab.kernel.accessAllowed ? 'block' : 'none';\n",
              "        })();\n",
              "      </script>\n",
              "    </div>\n",
              "\n",
              "    </div>\n",
              "  </div>\n"
            ],
            "application/vnd.google.colaboratory.intrinsic+json": {
              "type": "dataframe",
              "variable_name": "produtos",
              "summary": "{\n  \"name\": \"produtos\",\n  \"rows\": 10,\n  \"fields\": [\n    {\n      \"column\": \"produto_id\",\n      \"properties\": {\n        \"dtype\": \"number\",\n        \"std\": 3,\n        \"min\": 1001,\n        \"max\": 1010,\n        \"num_unique_values\": 10,\n        \"samples\": [\n          1009,\n          1002,\n          1006\n        ],\n        \"semantic_type\": \"\",\n        \"description\": \"\"\n      }\n    },\n    {\n      \"column\": \"nome_produto\",\n      \"properties\": {\n        \"dtype\": \"string\",\n        \"num_unique_values\": 10,\n        \"samples\": [\n          \"Bolsa Feminina\",\n          \"T\\u00eanis Corrida\",\n          \"Rel\\u00f3gio Esportivo\"\n        ],\n        \"semantic_type\": \"\",\n        \"description\": \"\"\n      }\n    },\n    {\n      \"column\": \"categoria\",\n      \"properties\": {\n        \"dtype\": \"category\",\n        \"num_unique_values\": 3,\n        \"samples\": [\n          \"Vestu\\u00e1rio\",\n          \"Cal\\u00e7ados\",\n          \"Acess\\u00f3rios\"\n        ],\n        \"semantic_type\": \"\",\n        \"description\": \"\"\n      }\n    },\n    {\n      \"column\": \"preco_unitario\",\n      \"properties\": {\n        \"dtype\": \"number\",\n        \"std\": 53.9912091609983,\n        \"min\": 25.0,\n        \"max\": 199.0,\n        \"num_unique_values\": 9,\n        \"samples\": [\n          159.9,\n          199.0,\n          129.9\n        ],\n        \"semantic_type\": \"\",\n        \"description\": \"\"\n      }\n    },\n    {\n      \"column\": \"estoque\",\n      \"properties\": {\n        \"dtype\": \"number\",\n        \"std\": 40,\n        \"min\": 25,\n        \"max\": 150,\n        \"num_unique_values\": 10,\n        \"samples\": [\n          40,\n          80,\n          30\n        ],\n        \"semantic_type\": \"\",\n        \"description\": \"\"\n      }\n    }\n  ]\n}"
            }
          },
          "metadata": {},
          "execution_count": 37
        }
      ]
    },
    {
      "cell_type": "code",
      "source": [
        "vendas = pd.read_excel(\"/content/vendas.xlsx\")\n",
        "vendas.head()"
      ],
      "metadata": {
        "colab": {
          "base_uri": "https://localhost:8080/",
          "height": 206
        },
        "id": "WzsrLxip2EjY",
        "outputId": "c03cb9ea-d10b-43d7-dcf1-82e312997a4c"
      },
      "execution_count": 2,
      "outputs": [
        {
          "output_type": "execute_result",
          "data": {
            "text/plain": [
              "   venda_id  produto_id cliente_id       data  quantidade  preco_unitario  \\\n",
              "0         1        1001      C0001 2024-01-01           2            49.9   \n",
              "1         2        1002      C0002 2024-01-01           1           199.0   \n",
              "2         3        1003      C0003 2024-01-02           3            89.9   \n",
              "3         4        1004      C0004 2024-01-03           1           149.9   \n",
              "4         5        1005      C0005 2024-01-04           2            79.9   \n",
              "\n",
              "   valor_total  \n",
              "0         99.8  \n",
              "1        199.0  \n",
              "2        269.7  \n",
              "3        149.9  \n",
              "4        159.8  "
            ],
            "text/html": [
              "\n",
              "  <div id=\"df-66709734-ec47-4c06-88d1-36001cb7cfca\" class=\"colab-df-container\">\n",
              "    <div>\n",
              "<style scoped>\n",
              "    .dataframe tbody tr th:only-of-type {\n",
              "        vertical-align: middle;\n",
              "    }\n",
              "\n",
              "    .dataframe tbody tr th {\n",
              "        vertical-align: top;\n",
              "    }\n",
              "\n",
              "    .dataframe thead th {\n",
              "        text-align: right;\n",
              "    }\n",
              "</style>\n",
              "<table border=\"1\" class=\"dataframe\">\n",
              "  <thead>\n",
              "    <tr style=\"text-align: right;\">\n",
              "      <th></th>\n",
              "      <th>venda_id</th>\n",
              "      <th>produto_id</th>\n",
              "      <th>cliente_id</th>\n",
              "      <th>data</th>\n",
              "      <th>quantidade</th>\n",
              "      <th>preco_unitario</th>\n",
              "      <th>valor_total</th>\n",
              "    </tr>\n",
              "  </thead>\n",
              "  <tbody>\n",
              "    <tr>\n",
              "      <th>0</th>\n",
              "      <td>1</td>\n",
              "      <td>1001</td>\n",
              "      <td>C0001</td>\n",
              "      <td>2024-01-01</td>\n",
              "      <td>2</td>\n",
              "      <td>49.9</td>\n",
              "      <td>99.8</td>\n",
              "    </tr>\n",
              "    <tr>\n",
              "      <th>1</th>\n",
              "      <td>2</td>\n",
              "      <td>1002</td>\n",
              "      <td>C0002</td>\n",
              "      <td>2024-01-01</td>\n",
              "      <td>1</td>\n",
              "      <td>199.0</td>\n",
              "      <td>199.0</td>\n",
              "    </tr>\n",
              "    <tr>\n",
              "      <th>2</th>\n",
              "      <td>3</td>\n",
              "      <td>1003</td>\n",
              "      <td>C0003</td>\n",
              "      <td>2024-01-02</td>\n",
              "      <td>3</td>\n",
              "      <td>89.9</td>\n",
              "      <td>269.7</td>\n",
              "    </tr>\n",
              "    <tr>\n",
              "      <th>3</th>\n",
              "      <td>4</td>\n",
              "      <td>1004</td>\n",
              "      <td>C0004</td>\n",
              "      <td>2024-01-03</td>\n",
              "      <td>1</td>\n",
              "      <td>149.9</td>\n",
              "      <td>149.9</td>\n",
              "    </tr>\n",
              "    <tr>\n",
              "      <th>4</th>\n",
              "      <td>5</td>\n",
              "      <td>1005</td>\n",
              "      <td>C0005</td>\n",
              "      <td>2024-01-04</td>\n",
              "      <td>2</td>\n",
              "      <td>79.9</td>\n",
              "      <td>159.8</td>\n",
              "    </tr>\n",
              "  </tbody>\n",
              "</table>\n",
              "</div>\n",
              "    <div class=\"colab-df-buttons\">\n",
              "\n",
              "  <div class=\"colab-df-container\">\n",
              "    <button class=\"colab-df-convert\" onclick=\"convertToInteractive('df-66709734-ec47-4c06-88d1-36001cb7cfca')\"\n",
              "            title=\"Convert this dataframe to an interactive table.\"\n",
              "            style=\"display:none;\">\n",
              "\n",
              "  <svg xmlns=\"http://www.w3.org/2000/svg\" height=\"24px\" viewBox=\"0 -960 960 960\">\n",
              "    <path d=\"M120-120v-720h720v720H120Zm60-500h600v-160H180v160Zm220 220h160v-160H400v160Zm0 220h160v-160H400v160ZM180-400h160v-160H180v160Zm440 0h160v-160H620v160ZM180-180h160v-160H180v160Zm440 0h160v-160H620v160Z\"/>\n",
              "  </svg>\n",
              "    </button>\n",
              "\n",
              "  <style>\n",
              "    .colab-df-container {\n",
              "      display:flex;\n",
              "      gap: 12px;\n",
              "    }\n",
              "\n",
              "    .colab-df-convert {\n",
              "      background-color: #E8F0FE;\n",
              "      border: none;\n",
              "      border-radius: 50%;\n",
              "      cursor: pointer;\n",
              "      display: none;\n",
              "      fill: #1967D2;\n",
              "      height: 32px;\n",
              "      padding: 0 0 0 0;\n",
              "      width: 32px;\n",
              "    }\n",
              "\n",
              "    .colab-df-convert:hover {\n",
              "      background-color: #E2EBFA;\n",
              "      box-shadow: 0px 1px 2px rgba(60, 64, 67, 0.3), 0px 1px 3px 1px rgba(60, 64, 67, 0.15);\n",
              "      fill: #174EA6;\n",
              "    }\n",
              "\n",
              "    .colab-df-buttons div {\n",
              "      margin-bottom: 4px;\n",
              "    }\n",
              "\n",
              "    [theme=dark] .colab-df-convert {\n",
              "      background-color: #3B4455;\n",
              "      fill: #D2E3FC;\n",
              "    }\n",
              "\n",
              "    [theme=dark] .colab-df-convert:hover {\n",
              "      background-color: #434B5C;\n",
              "      box-shadow: 0px 1px 3px 1px rgba(0, 0, 0, 0.15);\n",
              "      filter: drop-shadow(0px 1px 2px rgba(0, 0, 0, 0.3));\n",
              "      fill: #FFFFFF;\n",
              "    }\n",
              "  </style>\n",
              "\n",
              "    <script>\n",
              "      const buttonEl =\n",
              "        document.querySelector('#df-66709734-ec47-4c06-88d1-36001cb7cfca button.colab-df-convert');\n",
              "      buttonEl.style.display =\n",
              "        google.colab.kernel.accessAllowed ? 'block' : 'none';\n",
              "\n",
              "      async function convertToInteractive(key) {\n",
              "        const element = document.querySelector('#df-66709734-ec47-4c06-88d1-36001cb7cfca');\n",
              "        const dataTable =\n",
              "          await google.colab.kernel.invokeFunction('convertToInteractive',\n",
              "                                                    [key], {});\n",
              "        if (!dataTable) return;\n",
              "\n",
              "        const docLinkHtml = 'Like what you see? Visit the ' +\n",
              "          '<a target=\"_blank\" href=https://colab.research.google.com/notebooks/data_table.ipynb>data table notebook</a>'\n",
              "          + ' to learn more about interactive tables.';\n",
              "        element.innerHTML = '';\n",
              "        dataTable['output_type'] = 'display_data';\n",
              "        await google.colab.output.renderOutput(dataTable, element);\n",
              "        const docLink = document.createElement('div');\n",
              "        docLink.innerHTML = docLinkHtml;\n",
              "        element.appendChild(docLink);\n",
              "      }\n",
              "    </script>\n",
              "  </div>\n",
              "\n",
              "\n",
              "    <div id=\"df-d27da571-79c6-405c-9074-4de89e53d91c\">\n",
              "      <button class=\"colab-df-quickchart\" onclick=\"quickchart('df-d27da571-79c6-405c-9074-4de89e53d91c')\"\n",
              "                title=\"Suggest charts\"\n",
              "                style=\"display:none;\">\n",
              "\n",
              "<svg xmlns=\"http://www.w3.org/2000/svg\" height=\"24px\"viewBox=\"0 0 24 24\"\n",
              "     width=\"24px\">\n",
              "    <g>\n",
              "        <path d=\"M19 3H5c-1.1 0-2 .9-2 2v14c0 1.1.9 2 2 2h14c1.1 0 2-.9 2-2V5c0-1.1-.9-2-2-2zM9 17H7v-7h2v7zm4 0h-2V7h2v10zm4 0h-2v-4h2v4z\"/>\n",
              "    </g>\n",
              "</svg>\n",
              "      </button>\n",
              "\n",
              "<style>\n",
              "  .colab-df-quickchart {\n",
              "      --bg-color: #E8F0FE;\n",
              "      --fill-color: #1967D2;\n",
              "      --hover-bg-color: #E2EBFA;\n",
              "      --hover-fill-color: #174EA6;\n",
              "      --disabled-fill-color: #AAA;\n",
              "      --disabled-bg-color: #DDD;\n",
              "  }\n",
              "\n",
              "  [theme=dark] .colab-df-quickchart {\n",
              "      --bg-color: #3B4455;\n",
              "      --fill-color: #D2E3FC;\n",
              "      --hover-bg-color: #434B5C;\n",
              "      --hover-fill-color: #FFFFFF;\n",
              "      --disabled-bg-color: #3B4455;\n",
              "      --disabled-fill-color: #666;\n",
              "  }\n",
              "\n",
              "  .colab-df-quickchart {\n",
              "    background-color: var(--bg-color);\n",
              "    border: none;\n",
              "    border-radius: 50%;\n",
              "    cursor: pointer;\n",
              "    display: none;\n",
              "    fill: var(--fill-color);\n",
              "    height: 32px;\n",
              "    padding: 0;\n",
              "    width: 32px;\n",
              "  }\n",
              "\n",
              "  .colab-df-quickchart:hover {\n",
              "    background-color: var(--hover-bg-color);\n",
              "    box-shadow: 0 1px 2px rgba(60, 64, 67, 0.3), 0 1px 3px 1px rgba(60, 64, 67, 0.15);\n",
              "    fill: var(--button-hover-fill-color);\n",
              "  }\n",
              "\n",
              "  .colab-df-quickchart-complete:disabled,\n",
              "  .colab-df-quickchart-complete:disabled:hover {\n",
              "    background-color: var(--disabled-bg-color);\n",
              "    fill: var(--disabled-fill-color);\n",
              "    box-shadow: none;\n",
              "  }\n",
              "\n",
              "  .colab-df-spinner {\n",
              "    border: 2px solid var(--fill-color);\n",
              "    border-color: transparent;\n",
              "    border-bottom-color: var(--fill-color);\n",
              "    animation:\n",
              "      spin 1s steps(1) infinite;\n",
              "  }\n",
              "\n",
              "  @keyframes spin {\n",
              "    0% {\n",
              "      border-color: transparent;\n",
              "      border-bottom-color: var(--fill-color);\n",
              "      border-left-color: var(--fill-color);\n",
              "    }\n",
              "    20% {\n",
              "      border-color: transparent;\n",
              "      border-left-color: var(--fill-color);\n",
              "      border-top-color: var(--fill-color);\n",
              "    }\n",
              "    30% {\n",
              "      border-color: transparent;\n",
              "      border-left-color: var(--fill-color);\n",
              "      border-top-color: var(--fill-color);\n",
              "      border-right-color: var(--fill-color);\n",
              "    }\n",
              "    40% {\n",
              "      border-color: transparent;\n",
              "      border-right-color: var(--fill-color);\n",
              "      border-top-color: var(--fill-color);\n",
              "    }\n",
              "    60% {\n",
              "      border-color: transparent;\n",
              "      border-right-color: var(--fill-color);\n",
              "    }\n",
              "    80% {\n",
              "      border-color: transparent;\n",
              "      border-right-color: var(--fill-color);\n",
              "      border-bottom-color: var(--fill-color);\n",
              "    }\n",
              "    90% {\n",
              "      border-color: transparent;\n",
              "      border-bottom-color: var(--fill-color);\n",
              "    }\n",
              "  }\n",
              "</style>\n",
              "\n",
              "      <script>\n",
              "        async function quickchart(key) {\n",
              "          const quickchartButtonEl =\n",
              "            document.querySelector('#' + key + ' button');\n",
              "          quickchartButtonEl.disabled = true;  // To prevent multiple clicks.\n",
              "          quickchartButtonEl.classList.add('colab-df-spinner');\n",
              "          try {\n",
              "            const charts = await google.colab.kernel.invokeFunction(\n",
              "                'suggestCharts', [key], {});\n",
              "          } catch (error) {\n",
              "            console.error('Error during call to suggestCharts:', error);\n",
              "          }\n",
              "          quickchartButtonEl.classList.remove('colab-df-spinner');\n",
              "          quickchartButtonEl.classList.add('colab-df-quickchart-complete');\n",
              "        }\n",
              "        (() => {\n",
              "          let quickchartButtonEl =\n",
              "            document.querySelector('#df-d27da571-79c6-405c-9074-4de89e53d91c button');\n",
              "          quickchartButtonEl.style.display =\n",
              "            google.colab.kernel.accessAllowed ? 'block' : 'none';\n",
              "        })();\n",
              "      </script>\n",
              "    </div>\n",
              "\n",
              "    </div>\n",
              "  </div>\n"
            ],
            "application/vnd.google.colaboratory.intrinsic+json": {
              "type": "dataframe",
              "variable_name": "vendas",
              "summary": "{\n  \"name\": \"vendas\",\n  \"rows\": 10,\n  \"fields\": [\n    {\n      \"column\": \"venda_id\",\n      \"properties\": {\n        \"dtype\": \"number\",\n        \"std\": 3,\n        \"min\": 1,\n        \"max\": 10,\n        \"num_unique_values\": 10,\n        \"samples\": [\n          9,\n          2,\n          6\n        ],\n        \"semantic_type\": \"\",\n        \"description\": \"\"\n      }\n    },\n    {\n      \"column\": \"produto_id\",\n      \"properties\": {\n        \"dtype\": \"number\",\n        \"std\": 3,\n        \"min\": 1001,\n        \"max\": 1010,\n        \"num_unique_values\": 10,\n        \"samples\": [\n          1009,\n          1002,\n          1006\n        ],\n        \"semantic_type\": \"\",\n        \"description\": \"\"\n      }\n    },\n    {\n      \"column\": \"cliente_id\",\n      \"properties\": {\n        \"dtype\": \"string\",\n        \"num_unique_values\": 10,\n        \"samples\": [\n          \"C0009\",\n          \"C0002\",\n          \"C0006\"\n        ],\n        \"semantic_type\": \"\",\n        \"description\": \"\"\n      }\n    },\n    {\n      \"column\": \"data\",\n      \"properties\": {\n        \"dtype\": \"date\",\n        \"min\": \"2024-01-01 00:00:00\",\n        \"max\": \"2024-01-09 00:00:00\",\n        \"num_unique_values\": 9,\n        \"samples\": [\n          \"2024-01-08 00:00:00\",\n          \"2024-01-02 00:00:00\",\n          \"2024-01-06 00:00:00\"\n        ],\n        \"semantic_type\": \"\",\n        \"description\": \"\"\n      }\n    },\n    {\n      \"column\": \"quantidade\",\n      \"properties\": {\n        \"dtype\": \"number\",\n        \"std\": 1,\n        \"min\": 1,\n        \"max\": 5,\n        \"num_unique_values\": 4,\n        \"samples\": [\n          1,\n          5,\n          2\n        ],\n        \"semantic_type\": \"\",\n        \"description\": \"\"\n      }\n    },\n    {\n      \"column\": \"preco_unitario\",\n      \"properties\": {\n        \"dtype\": \"number\",\n        \"std\": 53.9912091609983,\n        \"min\": 25.0,\n        \"max\": 199.0,\n        \"num_unique_values\": 9,\n        \"samples\": [\n          159.9,\n          199.0,\n          129.9\n        ],\n        \"semantic_type\": \"\",\n        \"description\": \"\"\n      }\n    },\n    {\n      \"column\": \"valor_total\",\n      \"properties\": {\n        \"dtype\": \"number\",\n        \"std\": 55.371393536935855,\n        \"min\": 69.9,\n        \"max\": 269.7,\n        \"num_unique_values\": 10,\n        \"samples\": [\n          69.9,\n          199.0,\n          129.9\n        ],\n        \"semantic_type\": \"\",\n        \"description\": \"\"\n      }\n    }\n  ]\n}"
            }
          },
          "metadata": {},
          "execution_count": 2
        }
      ]
    },
    {
      "cell_type": "code",
      "source": [
        "\n",
        "\n",
        "datas = pd.read_csv(\"/content/datas.csv\")\n",
        "print(datas.head())\n"
      ],
      "metadata": {
        "colab": {
          "base_uri": "https://localhost:8080/"
        },
        "id": "nz8Qm7rOpnsJ",
        "outputId": "8cff92e9-bec3-4d3a-e7a6-2eed1c6d51ff"
      },
      "execution_count": 61,
      "outputs": [
        {
          "output_type": "stream",
          "name": "stdout",
          "text": [
            "         data dia_da_semana  feriado\n",
            "0  01/01/2024        Monday        1\n",
            "1  02/01/2024       Tuesday        0\n",
            "2  03/01/2024     Wednesday        0\n",
            "3  04/01/2024      Thursday        0\n",
            "4  05/01/2024        Friday        0\n"
          ]
        }
      ]
    },
    {
      "cell_type": "code",
      "source": [
        "cliente = pd.read_csv(\"/content/cliente.csv\")\n",
        "cliente.head()"
      ],
      "metadata": {
        "colab": {
          "base_uri": "https://localhost:8080/",
          "height": 206
        },
        "id": "JwKJPJys1l0g",
        "outputId": "db14ae1a-024b-46a6-8ea0-de19508ca0a6"
      },
      "execution_count": 6,
      "outputs": [
        {
          "output_type": "execute_result",
          "data": {
            "text/plain": [
              "  cliente_id     nome  idade          cidade\n",
              "0      C0001      Ana     28       São Paulo\n",
              "1      C0002    Bruno     35  Belo Horizonte\n",
              "2      C0003    Carla     22          Recife\n",
              "3      C0004    Diego     30  Rio de Janeiro\n",
              "4      C0005  Eduarda     27    Porto Alegre"
            ],
            "text/html": [
              "\n",
              "  <div id=\"df-c138a458-d9a0-49ff-972e-8b7429c60c4f\" class=\"colab-df-container\">\n",
              "    <div>\n",
              "<style scoped>\n",
              "    .dataframe tbody tr th:only-of-type {\n",
              "        vertical-align: middle;\n",
              "    }\n",
              "\n",
              "    .dataframe tbody tr th {\n",
              "        vertical-align: top;\n",
              "    }\n",
              "\n",
              "    .dataframe thead th {\n",
              "        text-align: right;\n",
              "    }\n",
              "</style>\n",
              "<table border=\"1\" class=\"dataframe\">\n",
              "  <thead>\n",
              "    <tr style=\"text-align: right;\">\n",
              "      <th></th>\n",
              "      <th>cliente_id</th>\n",
              "      <th>nome</th>\n",
              "      <th>idade</th>\n",
              "      <th>cidade</th>\n",
              "    </tr>\n",
              "  </thead>\n",
              "  <tbody>\n",
              "    <tr>\n",
              "      <th>0</th>\n",
              "      <td>C0001</td>\n",
              "      <td>Ana</td>\n",
              "      <td>28</td>\n",
              "      <td>São Paulo</td>\n",
              "    </tr>\n",
              "    <tr>\n",
              "      <th>1</th>\n",
              "      <td>C0002</td>\n",
              "      <td>Bruno</td>\n",
              "      <td>35</td>\n",
              "      <td>Belo Horizonte</td>\n",
              "    </tr>\n",
              "    <tr>\n",
              "      <th>2</th>\n",
              "      <td>C0003</td>\n",
              "      <td>Carla</td>\n",
              "      <td>22</td>\n",
              "      <td>Recife</td>\n",
              "    </tr>\n",
              "    <tr>\n",
              "      <th>3</th>\n",
              "      <td>C0004</td>\n",
              "      <td>Diego</td>\n",
              "      <td>30</td>\n",
              "      <td>Rio de Janeiro</td>\n",
              "    </tr>\n",
              "    <tr>\n",
              "      <th>4</th>\n",
              "      <td>C0005</td>\n",
              "      <td>Eduarda</td>\n",
              "      <td>27</td>\n",
              "      <td>Porto Alegre</td>\n",
              "    </tr>\n",
              "  </tbody>\n",
              "</table>\n",
              "</div>\n",
              "    <div class=\"colab-df-buttons\">\n",
              "\n",
              "  <div class=\"colab-df-container\">\n",
              "    <button class=\"colab-df-convert\" onclick=\"convertToInteractive('df-c138a458-d9a0-49ff-972e-8b7429c60c4f')\"\n",
              "            title=\"Convert this dataframe to an interactive table.\"\n",
              "            style=\"display:none;\">\n",
              "\n",
              "  <svg xmlns=\"http://www.w3.org/2000/svg\" height=\"24px\" viewBox=\"0 -960 960 960\">\n",
              "    <path d=\"M120-120v-720h720v720H120Zm60-500h600v-160H180v160Zm220 220h160v-160H400v160Zm0 220h160v-160H400v160ZM180-400h160v-160H180v160Zm440 0h160v-160H620v160ZM180-180h160v-160H180v160Zm440 0h160v-160H620v160Z\"/>\n",
              "  </svg>\n",
              "    </button>\n",
              "\n",
              "  <style>\n",
              "    .colab-df-container {\n",
              "      display:flex;\n",
              "      gap: 12px;\n",
              "    }\n",
              "\n",
              "    .colab-df-convert {\n",
              "      background-color: #E8F0FE;\n",
              "      border: none;\n",
              "      border-radius: 50%;\n",
              "      cursor: pointer;\n",
              "      display: none;\n",
              "      fill: #1967D2;\n",
              "      height: 32px;\n",
              "      padding: 0 0 0 0;\n",
              "      width: 32px;\n",
              "    }\n",
              "\n",
              "    .colab-df-convert:hover {\n",
              "      background-color: #E2EBFA;\n",
              "      box-shadow: 0px 1px 2px rgba(60, 64, 67, 0.3), 0px 1px 3px 1px rgba(60, 64, 67, 0.15);\n",
              "      fill: #174EA6;\n",
              "    }\n",
              "\n",
              "    .colab-df-buttons div {\n",
              "      margin-bottom: 4px;\n",
              "    }\n",
              "\n",
              "    [theme=dark] .colab-df-convert {\n",
              "      background-color: #3B4455;\n",
              "      fill: #D2E3FC;\n",
              "    }\n",
              "\n",
              "    [theme=dark] .colab-df-convert:hover {\n",
              "      background-color: #434B5C;\n",
              "      box-shadow: 0px 1px 3px 1px rgba(0, 0, 0, 0.15);\n",
              "      filter: drop-shadow(0px 1px 2px rgba(0, 0, 0, 0.3));\n",
              "      fill: #FFFFFF;\n",
              "    }\n",
              "  </style>\n",
              "\n",
              "    <script>\n",
              "      const buttonEl =\n",
              "        document.querySelector('#df-c138a458-d9a0-49ff-972e-8b7429c60c4f button.colab-df-convert');\n",
              "      buttonEl.style.display =\n",
              "        google.colab.kernel.accessAllowed ? 'block' : 'none';\n",
              "\n",
              "      async function convertToInteractive(key) {\n",
              "        const element = document.querySelector('#df-c138a458-d9a0-49ff-972e-8b7429c60c4f');\n",
              "        const dataTable =\n",
              "          await google.colab.kernel.invokeFunction('convertToInteractive',\n",
              "                                                    [key], {});\n",
              "        if (!dataTable) return;\n",
              "\n",
              "        const docLinkHtml = 'Like what you see? Visit the ' +\n",
              "          '<a target=\"_blank\" href=https://colab.research.google.com/notebooks/data_table.ipynb>data table notebook</a>'\n",
              "          + ' to learn more about interactive tables.';\n",
              "        element.innerHTML = '';\n",
              "        dataTable['output_type'] = 'display_data';\n",
              "        await google.colab.output.renderOutput(dataTable, element);\n",
              "        const docLink = document.createElement('div');\n",
              "        docLink.innerHTML = docLinkHtml;\n",
              "        element.appendChild(docLink);\n",
              "      }\n",
              "    </script>\n",
              "  </div>\n",
              "\n",
              "\n",
              "    <div id=\"df-8dbc9edc-dbe1-4480-a4ee-531a7bb655cc\">\n",
              "      <button class=\"colab-df-quickchart\" onclick=\"quickchart('df-8dbc9edc-dbe1-4480-a4ee-531a7bb655cc')\"\n",
              "                title=\"Suggest charts\"\n",
              "                style=\"display:none;\">\n",
              "\n",
              "<svg xmlns=\"http://www.w3.org/2000/svg\" height=\"24px\"viewBox=\"0 0 24 24\"\n",
              "     width=\"24px\">\n",
              "    <g>\n",
              "        <path d=\"M19 3H5c-1.1 0-2 .9-2 2v14c0 1.1.9 2 2 2h14c1.1 0 2-.9 2-2V5c0-1.1-.9-2-2-2zM9 17H7v-7h2v7zm4 0h-2V7h2v10zm4 0h-2v-4h2v4z\"/>\n",
              "    </g>\n",
              "</svg>\n",
              "      </button>\n",
              "\n",
              "<style>\n",
              "  .colab-df-quickchart {\n",
              "      --bg-color: #E8F0FE;\n",
              "      --fill-color: #1967D2;\n",
              "      --hover-bg-color: #E2EBFA;\n",
              "      --hover-fill-color: #174EA6;\n",
              "      --disabled-fill-color: #AAA;\n",
              "      --disabled-bg-color: #DDD;\n",
              "  }\n",
              "\n",
              "  [theme=dark] .colab-df-quickchart {\n",
              "      --bg-color: #3B4455;\n",
              "      --fill-color: #D2E3FC;\n",
              "      --hover-bg-color: #434B5C;\n",
              "      --hover-fill-color: #FFFFFF;\n",
              "      --disabled-bg-color: #3B4455;\n",
              "      --disabled-fill-color: #666;\n",
              "  }\n",
              "\n",
              "  .colab-df-quickchart {\n",
              "    background-color: var(--bg-color);\n",
              "    border: none;\n",
              "    border-radius: 50%;\n",
              "    cursor: pointer;\n",
              "    display: none;\n",
              "    fill: var(--fill-color);\n",
              "    height: 32px;\n",
              "    padding: 0;\n",
              "    width: 32px;\n",
              "  }\n",
              "\n",
              "  .colab-df-quickchart:hover {\n",
              "    background-color: var(--hover-bg-color);\n",
              "    box-shadow: 0 1px 2px rgba(60, 64, 67, 0.3), 0 1px 3px 1px rgba(60, 64, 67, 0.15);\n",
              "    fill: var(--button-hover-fill-color);\n",
              "  }\n",
              "\n",
              "  .colab-df-quickchart-complete:disabled,\n",
              "  .colab-df-quickchart-complete:disabled:hover {\n",
              "    background-color: var(--disabled-bg-color);\n",
              "    fill: var(--disabled-fill-color);\n",
              "    box-shadow: none;\n",
              "  }\n",
              "\n",
              "  .colab-df-spinner {\n",
              "    border: 2px solid var(--fill-color);\n",
              "    border-color: transparent;\n",
              "    border-bottom-color: var(--fill-color);\n",
              "    animation:\n",
              "      spin 1s steps(1) infinite;\n",
              "  }\n",
              "\n",
              "  @keyframes spin {\n",
              "    0% {\n",
              "      border-color: transparent;\n",
              "      border-bottom-color: var(--fill-color);\n",
              "      border-left-color: var(--fill-color);\n",
              "    }\n",
              "    20% {\n",
              "      border-color: transparent;\n",
              "      border-left-color: var(--fill-color);\n",
              "      border-top-color: var(--fill-color);\n",
              "    }\n",
              "    30% {\n",
              "      border-color: transparent;\n",
              "      border-left-color: var(--fill-color);\n",
              "      border-top-color: var(--fill-color);\n",
              "      border-right-color: var(--fill-color);\n",
              "    }\n",
              "    40% {\n",
              "      border-color: transparent;\n",
              "      border-right-color: var(--fill-color);\n",
              "      border-top-color: var(--fill-color);\n",
              "    }\n",
              "    60% {\n",
              "      border-color: transparent;\n",
              "      border-right-color: var(--fill-color);\n",
              "    }\n",
              "    80% {\n",
              "      border-color: transparent;\n",
              "      border-right-color: var(--fill-color);\n",
              "      border-bottom-color: var(--fill-color);\n",
              "    }\n",
              "    90% {\n",
              "      border-color: transparent;\n",
              "      border-bottom-color: var(--fill-color);\n",
              "    }\n",
              "  }\n",
              "</style>\n",
              "\n",
              "      <script>\n",
              "        async function quickchart(key) {\n",
              "          const quickchartButtonEl =\n",
              "            document.querySelector('#' + key + ' button');\n",
              "          quickchartButtonEl.disabled = true;  // To prevent multiple clicks.\n",
              "          quickchartButtonEl.classList.add('colab-df-spinner');\n",
              "          try {\n",
              "            const charts = await google.colab.kernel.invokeFunction(\n",
              "                'suggestCharts', [key], {});\n",
              "          } catch (error) {\n",
              "            console.error('Error during call to suggestCharts:', error);\n",
              "          }\n",
              "          quickchartButtonEl.classList.remove('colab-df-spinner');\n",
              "          quickchartButtonEl.classList.add('colab-df-quickchart-complete');\n",
              "        }\n",
              "        (() => {\n",
              "          let quickchartButtonEl =\n",
              "            document.querySelector('#df-8dbc9edc-dbe1-4480-a4ee-531a7bb655cc button');\n",
              "          quickchartButtonEl.style.display =\n",
              "            google.colab.kernel.accessAllowed ? 'block' : 'none';\n",
              "        })();\n",
              "      </script>\n",
              "    </div>\n",
              "\n",
              "    </div>\n",
              "  </div>\n"
            ],
            "application/vnd.google.colaboratory.intrinsic+json": {
              "type": "dataframe",
              "variable_name": "cliente",
              "summary": "{\n  \"name\": \"cliente\",\n  \"rows\": 10,\n  \"fields\": [\n    {\n      \"column\": \"cliente_id\",\n      \"properties\": {\n        \"dtype\": \"string\",\n        \"num_unique_values\": 10,\n        \"samples\": [\n          \"C0009\",\n          \"C0002\",\n          \"C0006\"\n        ],\n        \"semantic_type\": \"\",\n        \"description\": \"\"\n      }\n    },\n    {\n      \"column\": \"nome\",\n      \"properties\": {\n        \"dtype\": \"string\",\n        \"num_unique_values\": 10,\n        \"samples\": [\n          \"Isabela\",\n          \"Bruno\",\n          \"Felipe\"\n        ],\n        \"semantic_type\": \"\",\n        \"description\": \"\"\n      }\n    },\n    {\n      \"column\": \"idade\",\n      \"properties\": {\n        \"dtype\": \"number\",\n        \"std\": 5,\n        \"min\": 22,\n        \"max\": 40,\n        \"num_unique_values\": 10,\n        \"samples\": [\n          31,\n          35,\n          40\n        ],\n        \"semantic_type\": \"\",\n        \"description\": \"\"\n      }\n    },\n    {\n      \"column\": \"cidade\",\n      \"properties\": {\n        \"dtype\": \"string\",\n        \"num_unique_values\": 10,\n        \"samples\": [\n          \"Fortaleza\",\n          \"Belo Horizonte\",\n          \"Salvador\"\n        ],\n        \"semantic_type\": \"\",\n        \"description\": \"\"\n      }\n    }\n  ]\n}"
            }
          },
          "metadata": {},
          "execution_count": 6
        }
      ]
    },
    {
      "cell_type": "code",
      "source": [
        "# merge vndas and produtos tables on \"produto_id\"\n",
        "vendas_e_produtos = pd.merge(vendas, produtos, on=\"produto_id\")\n"
      ],
      "metadata": {
        "id": "jTQQPq00Xya7"
      },
      "execution_count": 46,
      "outputs": []
    },
    {
      "cell_type": "markdown",
      "source": [
        "\n",
        "\n",
        "1.   *Qual produto gerou mais receita total?*\n",
        "\n",
        "\n",
        "\n",
        "\n",
        "\n"
      ],
      "metadata": {
        "id": "8RpqiwMirg7I"
      }
    },
    {
      "cell_type": "code",
      "source": [
        "# Group the products by name\n",
        "vendas_por_produto = vendas_e_produtos.groupby(\"nome_produto\")[\"valor_total\"].sum()\n",
        "\n",
        "\n",
        "venda_maior = vendas_por_produto.sort_values(ascending=False)\n",
        "\n",
        "nome_produto = venda_maior.index[0]\n",
        "valor_vendas_produto = venda_maior.iloc[0]\n",
        "\n",
        "print(f\"O produto que vendeu mais è: {nome_produto} €{valor_vendas_produto}\")\n",
        "\n"
      ],
      "metadata": {
        "colab": {
          "base_uri": "https://localhost:8080/"
        },
        "id": "A0R3IDd7YwzL",
        "outputId": "5bcffd14-3a12-457d-fc40-3fffdc7f4763"
      },
      "execution_count": 71,
      "outputs": [
        {
          "output_type": "stream",
          "name": "stdout",
          "text": [
            "O produto que vendeu mais è: Mochila Urbana €269.7\n"
          ]
        }
      ]
    },
    {
      "cell_type": "markdown",
      "source": [
        "\n",
        "\n",
        "2*.   Qual categoria vendeu mais unidades?*\n",
        "\n"
      ],
      "metadata": {
        "id": "9-xj3eaL1SeC"
      }
    },
    {
      "cell_type": "code",
      "source": [
        "#Group the category by total value\n",
        "vendas_por_categoria = vendas_e_produtos.groupby(\"categoria\")[\"valor_total\"].sum()\n",
        "vendas_categoria_ordenada = vendas_por_categoria.sort_values(ascending=False)\n",
        "\n",
        "nome_categoria = vendas_categoria_ordenada.index[0]\n",
        "valor_vendas_categoria = vendas_categoria_ordenada.iloc[0]\n",
        "\n",
        "\n",
        "print(f\"A categoria que vendeu mais unidades é: {nome_categoria} €{valor_vendas_categoria}\")"
      ],
      "metadata": {
        "colab": {
          "base_uri": "https://localhost:8080/"
        },
        "id": "EHZ_3jNj1bjg",
        "outputId": "703549d0-5d42-4075-ecff-18f91249151e"
      },
      "execution_count": 72,
      "outputs": [
        {
          "output_type": "stream",
          "name": "stdout",
          "text": [
            "A categoria que vendeu mais unidades é: Acessórios €649.3\n"
          ]
        }
      ]
    },
    {
      "cell_type": "markdown",
      "source": [
        "7. *Gere um gráfico de barras com receita por categoria*"
      ],
      "metadata": {
        "id": "UwM7v7qwKXTS"
      }
    },
    {
      "cell_type": "code",
      "source": [
        "plt.bar(vendas_por_categoria.index, vendas_por_categoria.values)\n",
        "plt.title(\"Gráfico de vedas por Categoria\")\n",
        "plt.xlabel(\"Categoria\")\n",
        "plt.ylabel(\"Valor Total\")\n",
        "plt.show()"
      ],
      "metadata": {
        "colab": {
          "base_uri": "https://localhost:8080/",
          "height": 472
        },
        "id": "Khx9aXvLxFqb",
        "outputId": "ee316a94-5bda-4aef-9f06-b52b3b42fdd2"
      },
      "execution_count": 14,
      "outputs": [
        {
          "output_type": "display_data",
          "data": {
            "text/plain": [
              "<Figure size 640x480 with 1 Axes>"
            ],
            "image/png": "[encoded data removed]"
          },
          "metadata": {}
        }
      ]
    },
    {
      "cell_type": "markdown",
      "source": [
        "\n",
        "3.   Qual é o ticket médio por cliente?\n",
        "\n",
        "\n",
        "\n",
        "\n"
      ],
      "metadata": {
        "id": "8QcpilY4gxCq"
      }
    },
    {
      "cell_type": "code",
      "source": [
        "# Merge with cliente.csv\n",
        "vendas_e_cliente = vendas_e_produtos.merge(cliente, on=\"cliente_id\")\n"
      ],
      "metadata": {
        "id": "3cCURng1gwo1"
      },
      "execution_count": 59,
      "outputs": []
    },
    {
      "cell_type": "code",
      "source": [
        "# Divide the total purchased (total_value) by the number of purchases per customer_id.\n",
        "\n",
        "ticket_medio = vendas.groupby(\"cliente_id\")[\"valor_total\"].sum() / vendas.groupby(\"cliente_id\")[\"quantidade\"].sum()\n",
        "\n",
        "print(ticket_medio)"
      ],
      "metadata": {
        "colab": {
          "base_uri": "https://localhost:8080/"
        },
        "id": "TSGhjZFSn8YV",
        "outputId": "8497e49c-bc2e-44ac-db91-f6722c074607"
      },
      "execution_count": 55,
      "outputs": [
        {
          "output_type": "stream",
          "name": "stdout",
          "text": [
            "cliente_id\n",
            "C0001     49.9\n",
            "C0002    199.0\n",
            "C0003     89.9\n",
            "C0004    149.9\n",
            "C0005     79.9\n",
            "C0006    129.9\n",
            "C0007     25.0\n",
            "C0008    159.9\n",
            "C0009     69.9\n",
            "C0010     89.9\n",
            "dtype: float64\n"
          ]
        }
      ]
    },
    {
      "cell_type": "markdown",
      "source": [
        "\n",
        "4.   Em quais dias da semana ocorrem mais vendas?\n",
        "\n",
        "\n"
      ],
      "metadata": {
        "id": "3oOW93Y6jHKF"
      }
    },
    {
      "cell_type": "code",
      "source": [
        "\n",
        "#check data types\n",
        "print(vendas_e_cliente[\"data\"].dtypes)\n",
        "\n",
        "# convert data to \"datetime\"\n",
        "\n",
        "vendas_e_cliente[\"data\"] = pd.to_datetime(vendas_e_cliente[\"data\"])\n",
        "datas['data'] = pd.to_datetime(datas[\"data\"],dayfirst=True)\n",
        "\n",
        "# Merge with datas.csv and group by day_of_week.\n",
        "\n",
        "vendas_e_datas = vendas_e_cliente.merge(datas, on=\"data\")\n",
        "print(vendas_e_datas)"
      ],
      "metadata": {
        "colab": {
          "base_uri": "https://localhost:8080/"
        },
        "id": "nuJdPCalqUjV",
        "outputId": "659a4335-8522-4aaf-8d9d-66d5aefe9b1e"
      },
      "execution_count": 60,
      "outputs": [
        {
          "output_type": "stream",
          "name": "stdout",
          "text": [
            "datetime64[ns]\n",
            "   venda_id  produto_id cliente_id       data  quantidade  preco_unitario_x  \\\n",
            "0         1        1001      C0001 2024-01-01           2              49.9   \n",
            "1         2        1002      C0002 2024-01-01           1             199.0   \n",
            "2         3        1003      C0003 2024-01-02           3              89.9   \n",
            "3         4        1004      C0004 2024-01-03           1             149.9   \n",
            "4         5        1005      C0005 2024-01-04           2              79.9   \n",
            "5         6        1006      C0006 2024-01-05           1             129.9   \n",
            "6         7        1007      C0007 2024-01-06           5              25.0   \n",
            "7         8        1008      C0008 2024-01-07           1             159.9   \n",
            "8         9        1009      C0009 2024-01-08           1              69.9   \n",
            "9        10        1010      C0010 2024-01-09           2              89.9   \n",
            "\n",
            "   valor_total         nome_produto   categoria  preco_unitario_y  estoque  \\\n",
            "0         99.8      Camiseta Básica   Vestuário              49.9      120   \n",
            "1        199.0        Tênis Corrida    Calçados             199.0       80   \n",
            "2        269.7       Mochila Urbana  Acessórios              89.9       50   \n",
            "3        149.9  Jaqueta Corta-Vento   Vestuário             149.9       60   \n",
            "4        159.8          Calça Jeans   Vestuário              79.9       90   \n",
            "5        129.9    Relógio Esportivo  Acessórios             129.9       30   \n",
            "6        125.0         Meias Pack 3   Vestuário              25.0      150   \n",
            "7        159.9         Tênis Casual    Calçados             159.9       70   \n",
            "8         69.9       Bolsa Feminina  Acessórios              69.9       40   \n",
            "9        179.8        Óculos de Sol  Acessórios              89.9       25   \n",
            "\n",
            "       nome  idade          cidade dia_da_semana  feriado  \n",
            "0       Ana     28       São Paulo        Monday        1  \n",
            "1     Bruno     35  Belo Horizonte        Monday        1  \n",
            "2     Carla     22          Recife       Tuesday        0  \n",
            "3     Diego     30  Rio de Janeiro     Wednesday        0  \n",
            "4   Eduarda     27    Porto Alegre      Thursday        0  \n",
            "5    Felipe     40        Salvador        Friday        0  \n",
            "6  Gabriela     24        Curitiba      Saturday        0  \n",
            "7      Hugo     29        Brasília        Sunday        0  \n",
            "8   Isabela     31       Fortaleza        Monday        0  \n",
            "9      João     26          Manaus       Tuesday        0  \n"
          ]
        }
      ]
    },
    {
      "cell_type": "code",
      "source": [
        "#Group day of the week by total value\n",
        "vendas_por_dia_semana = vendas_e_datas.groupby(\"dia_da_semana\")[\"valor_total\"].sum()\n",
        "dia_maior_vendas = print(vendas_por_dia_semana.sort_values(ascending=False))\n"
      ],
      "metadata": {
        "colab": {
          "base_uri": "https://localhost:8080/"
        },
        "id": "GuI8ijwhlGYC",
        "outputId": "79a0c3ef-945f-47e3-80f9-6481cb8c8753"
      },
      "execution_count": 73,
      "outputs": [
        {
          "output_type": "stream",
          "name": "stdout",
          "text": [
            "dia_da_semana\n",
            "Tuesday      449.5\n",
            "Monday       368.7\n",
            "Sunday       159.9\n",
            "Thursday     159.8\n",
            "Wednesday    149.9\n",
            "Friday       129.9\n",
            "Saturday     125.0\n",
            "Name: valor_total, dtype: float64\n"
          ]
        }
      ]
    },
    {
      "cell_type": "markdown",
      "source": [
        "6. *Filtre vendas feitas em feriados.*"
      ],
      "metadata": {
        "id": "cNtbx_8aOOxb"
      }
    },
    {
      "cell_type": "code",
      "source": [
        "vendas_feriados = vendas_e_datas[\"feriado\"] == 1\n",
        "feriados= vendas_e_datas[vendas_feriados]"
      ],
      "metadata": {
        "id": "jem3Zwkor3jw"
      },
      "execution_count": 78,
      "outputs": []
    },
    {
      "cell_type": "markdown",
      "source": [
        "8. *Crie um gráfico de linha com vendas diárias.*\n",
        "\n",
        "\n"
      ],
      "metadata": {
        "id": "p-nMEeZ8OuCD"
      }
    },
    {
      "cell_type": "code",
      "source": [
        "vendas_por_dia_index = vendas_e_datas.groupby([\"data\",\"feriado\"])[\"valor_total\"].sum().reset_index()\n",
        "\n",
        "plt.plot(vendas_por_dia_index[\"data\"], vendas_por_dia_index[\"valor_total\"], label=\"Vendas Diárias\", color=\"blue\")\n",
        "\n",
        "\n",
        "plt.scatter(feriados[\"data\"], feriados[\"valor_total\"], color=\"red\", label=\"Vendas Feriados\")\n",
        "\n",
        "plt.title(\"Gráfico de Vendas Diárias com Feriados Destacados\")\n",
        "plt.xlabel(\"Data\")\n",
        "plt.ylabel(\"Valor Total (€)\")\n",
        "plt.xticks(rotation=45)\n",
        "plt.legend()\n",
        "plt.tight_layout()\n",
        "plt.show()"
      ],
      "metadata": {
        "colab": {
          "base_uri": "https://localhost:8080/",
          "height": 487
        },
        "id": "jgevsORq5x4P",
        "outputId": "7b0a146a-a685-4236-83aa-53cc423ca3b0"
      },
      "execution_count": 79,
      "outputs": [
        {
          "output_type": "display_data",
          "data": {
            "text/plain": [
              "<Figure size 640x480 with 1 Axes>"
            ],
            "image/png": "[encoded data removed]"
          },
          "metadata": {}
        }
      ]
    },
    {
      "cell_type": "markdown",
      "source": [
        "5. *Crie uma nova coluna tipo_cliente:*\n",
        "\n",
        "Se a idade for < 30 → \"Jovem\", >= 30 → \"Adulto\"."
      ],
      "metadata": {
        "id": "cKfFc9dWpJdb"
      }
    },
    {
      "cell_type": "code",
      "source": [
        "vendas_e_datas[\"tipo_cliente\"] = np.where(vendas_e_datas[\"idade\"] < 30, \"Jovem\", \"Adulto\")\n",
        "\n",
        "print(vendas_e_datas)\n",
        "\n"
      ],
      "metadata": {
        "colab": {
          "base_uri": "https://localhost:8080/"
        },
        "id": "y1QSVD-zpNMG",
        "outputId": "084c580f-654f-47c1-b853-1ca21247d1d9"
      },
      "execution_count": 76,
      "outputs": [
        {
          "output_type": "stream",
          "name": "stdout",
          "text": [
            "   venda_id  produto_id cliente_id       data  quantidade  preco_unitario_x  \\\n",
            "0         1        1001      C0001 2024-01-01           2              49.9   \n",
            "1         2        1002      C0002 2024-01-01           1             199.0   \n",
            "2         3        1003      C0003 2024-01-02           3              89.9   \n",
            "3         4        1004      C0004 2024-01-03           1             149.9   \n",
            "4         5        1005      C0005 2024-01-04           2              79.9   \n",
            "5         6        1006      C0006 2024-01-05           1             129.9   \n",
            "6         7        1007      C0007 2024-01-06           5              25.0   \n",
            "7         8        1008      C0008 2024-01-07           1             159.9   \n",
            "8         9        1009      C0009 2024-01-08           1              69.9   \n",
            "9        10        1010      C0010 2024-01-09           2              89.9   \n",
            "\n",
            "   valor_total         nome_produto   categoria  preco_unitario_y  estoque  \\\n",
            "0         99.8      Camiseta Básica   Vestuário              49.9      120   \n",
            "1        199.0        Tênis Corrida    Calçados             199.0       80   \n",
            "2        269.7       Mochila Urbana  Acessórios              89.9       50   \n",
            "3        149.9  Jaqueta Corta-Vento   Vestuário             149.9       60   \n",
            "4        159.8          Calça Jeans   Vestuário              79.9       90   \n",
            "5        129.9    Relógio Esportivo  Acessórios             129.9       30   \n",
            "6        125.0         Meias Pack 3   Vestuário              25.0      150   \n",
            "7        159.9         Tênis Casual    Calçados             159.9       70   \n",
            "8         69.9       Bolsa Feminina  Acessórios              69.9       40   \n",
            "9        179.8        Óculos de Sol  Acessórios              89.9       25   \n",
            "\n",
            "       nome  idade          cidade dia_da_semana  feriado tipo_cliente  \n",
            "0       Ana     28       São Paulo        Monday        1        Jovem  \n",
            "1     Bruno     35  Belo Horizonte        Monday        1       Adulto  \n",
            "2     Carla     22          Recife       Tuesday        0        Jovem  \n",
            "3     Diego     30  Rio de Janeiro     Wednesday        0       Adulto  \n",
            "4   Eduarda     27    Porto Alegre      Thursday        0        Jovem  \n",
            "5    Felipe     40        Salvador        Friday        0       Adulto  \n",
            "6  Gabriela     24        Curitiba      Saturday        0        Jovem  \n",
            "7      Hugo     29        Brasília        Sunday        0        Jovem  \n",
            "8   Isabela     31       Fortaleza        Monday        0       Adulto  \n",
            "9      João     26          Manaus       Tuesday        0        Jovem  \n"
          ]
        }
      ]
    },
    {
      "cell_type": "markdown",
      "source": [
        "*9. Os produtos mais caros são os mais vendidos?*\n"
      ],
      "metadata": {
        "id": "sizYlYJOqWdx"
      }
    },
    {
      "cell_type": "code",
      "source": [
        "# Compare average price with total quantity per product.\n",
        "analise_produtos = vendas_e_produtos.groupby(\"nome_produto\").agg({\n",
        "    \"preco_unitario_x\": \"mean\",\n",
        "    \"quantidade\": \"sum\"\n",
        "}).reset_index()\n"
      ],
      "metadata": {
        "id": "6mn8a46ZqcoO"
      },
      "execution_count": 82,
      "outputs": []
    },
    {
      "cell_type": "code",
      "source": [
        "plt.scatter(analise_produtos[\"preco_unitario_x\"], analise_produtos[\"quantidade\"])\n",
        "plt.title(\"Preço medio X Quantidade Vendida\")\n",
        "plt.xlabel(\"Preço Medio (€)\")\n",
        "plt.ylabel(\"Quantidade Total Vendida\")\n",
        "plt.show()\n"
      ],
      "metadata": {
        "colab": {
          "base_uri": "https://localhost:8080/",
          "height": 472
        },
        "id": "JPFOKI8kzAhV",
        "outputId": "d483cf86-a59d-4fc6-f3db-bd9a802de19e"
      },
      "execution_count": 18,
      "outputs": [
        {
          "output_type": "display_data",
          "data": {
            "text/plain": [
              "<Figure size 640x480 with 1 Axes>"
            ],
            "image/png": "[encoded data removed]"
          },
          "metadata": {}
        }
      ]
    },
    {
      "cell_type": "markdown",
      "source": [
        "*10. Clientes mais jovens gastam mais ou menos?*\n",
        "\n",
        "Crie um boxplot de valor_total por faixa etária."
      ],
      "metadata": {
        "id": "7-nU9KV30JUG"
      }
    },
    {
      "cell_type": "code",
      "source": [
        "sns.boxplot(data=vendas_e_datas, x=\"tipo_cliente\", y=\"valor_total\", hue=\"tipo_cliente\")\n",
        "\n",
        "plt.title(\"Vendas por Idade\")\n",
        "plt.xlabel(\"Tipo de Cliente\")\n",
        "plt.ylabel(\"Valor Total da Compra (€)\")\n",
        "plt.grid(True)\n",
        "\n",
        "plt.legend(title= \"tipo_cliente\", loc= \"upper right\", labels=[\"<30 Jovem\", \"≥30 Adulto\"])\n",
        "\n",
        "\n",
        "\n",
        "\n",
        "plt.show()"
      ],
      "metadata": {
        "colab": {
          "base_uri": "https://localhost:8080/",
          "height": 472
        },
        "id": "pgAcO7XlAcY5",
        "outputId": "0047a83c-cb96-46d1-cf3a-df9147a5508c"
      },
      "execution_count": 81,
      "outputs": [
        {
          "output_type": "display_data",
          "data": {
            "text/plain": [
              "<Figure size 640x480 with 1 Axes>"
            ],
            "image/png": "[encoded data removed]"
          },
          "metadata": {}
        }
      ]
    }
  ]
}